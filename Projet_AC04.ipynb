{
  "cells": [
    {
      "cell_type": "markdown",
      "metadata": {
        "id": "view-in-github",
        "colab_type": "text"
      },
      "source": [
        "<a href=\"https://colab.research.google.com/github/qaniere/latex-r/blob/main/Projet_AC04.ipynb\" target=\"_parent\"><img src=\"https://colab.research.google.com/assets/colab-badge.svg\" alt=\"Open In Colab\"/></a>"
      ]
    },
    {
      "cell_type": "markdown",
      "metadata": {
        "id": "bvRy_dcZ5fKI"
      },
      "source": [
        "# AC04 - Projet régression linéaire\n",
        "\n"
      ]
    },
    {
      "cell_type": "code",
      "execution_count": null,
      "metadata": {
        "colab": {
          "background_save": true,
          "base_uri": "https://localhost:8080/",
          "height": 506
        },
        "id": "1sC684I67Ld3",
        "outputId": "7cf1f953-0f41-44b5-a3d5-fe03d1929cf9"
      },
      "outputs": [
        {
          "data": {
            "text/html": [
              "0.24"
            ],
            "text/latex": "0.24",
            "text/markdown": "0.24",
            "text/plain": [
              "[1] 0.24"
            ]
          },
          "metadata": {},
          "output_type": "display_data"
        },
        {
          "data": {
            "text/html": [
              "0"
            ],
            "text/latex": "0",
            "text/markdown": "0",
            "text/plain": [
              "[1] 0"
            ]
          },
          "metadata": {},
          "output_type": "display_data"
        },
        {
          "data": {
            "text/html": [
              "0"
            ],
            "text/latex": "0",
            "text/markdown": "0",
            "text/plain": [
              "[1] 0"
            ]
          },
          "metadata": {},
          "output_type": "display_data"
        },
        {
          "data": {
            "text/html": [
              "<style>\n",
              ".list-inline {list-style: none; margin:0; padding: 0}\n",
              ".list-inline>li {display: inline-block}\n",
              ".list-inline>li:not(:last-child)::after {content: \"\\00b7\"; padding: 0 .5ex}\n",
              "</style>\n",
              "<ol class=list-inline><li>0</li><li>0</li><li>0.222222222222222</li><li>0.444444444444444</li><li>0.666666666666667</li><li>0</li><li>0</li></ol>\n"
            ],
            "text/latex": "\\begin{enumerate*}\n\\item 0\n\\item 0\n\\item 0.222222222222222\n\\item 0.444444444444444\n\\item 0.666666666666667\n\\item 0\n\\item 0\n\\end{enumerate*}\n",
            "text/markdown": "1. 0\n2. 0\n3. 0.222222222222222\n4. 0.444444444444444\n5. 0.666666666666667\n6. 0\n7. 0\n\n\n",
            "text/plain": [
              "[1] 0.0000000 0.0000000 0.2222222 0.4444444 0.6666667 0.0000000 0.0000000"
            ]
          },
          "metadata": {},
          "output_type": "display_data"
        },
        {
          "data": {
            "image/png": "[encoded data removed]",
            "text/plain": [
              "plot without title"
            ]
          },
          "metadata": {
            "image/png": {
              "height": 420,
              "width": 420
            }
          },
          "output_type": "display_data"
        }
      ],
      "source": [
        "dloi <- function(x, b) {\n",
        "    resultat <- (2 / b^2) * x\n",
        "    resultat[x < 0] <- 0\n",
        "    resultat[x > b] <-0\n",
        "    return(resultat)\n",
        "}\n",
        "dloi(3, 5)\n",
        "dloi(5, 3)\n",
        "dloi(-5, 5)\n",
        "\n",
        "dloi(-1:5, 3)\n",
        "curve(dloi(x, 3), from = -1, to = 5)\n",
        "\n",
        "# Essai calcul intensif\n",
        "curve(dloi(x, 3), from = -1, to = 5)"
      ]
    }
  ],
  "metadata": {
    "accelerator": "GPU",
    "colab": {
      "gpuType": "T4",
      "provenance": [],
      "authorship_tag": "ABX9TyMP9O/T5oKBRbeXyAUuTODj",
      "include_colab_link": true
    },
    "kernelspec": {
      "display_name": "R",
      "name": "ir"
    },
    "language_info": {
      "name": "R"
    }
  },
  "nbformat": 4,
  "nbformat_minor": 0
}